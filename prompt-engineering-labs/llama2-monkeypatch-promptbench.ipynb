{
 "cells": [
  {
   "cell_type": "markdown",
   "id": "21a147a4-09ea-4791-81e8-511914a5bebf",
   "metadata": {},
   "source": [
    "# Using promptBench to evaluate LLama 2 Chat models\n",
    "\n",
    "***\n",
    "\n",
    "PromptBench is a unified library for evaluating and understanding large language models.\n",
    "\n",
    "With promptBench, we can:\n",
    "- **Quickly access your model performance**: PromptBench provides a user-friendly interface for quick build models, load dataset, and evaluate model performance.\n",
    "- **Prompt Engineering**\n",
    "- **Evaluate adversarial prompts**: PromptBench integreates prompt attacks: for researchers to stimulate black-bock adversarial prompt attacks on the models and evaluate their performances.\n"
   ]
  },
  {
   "cell_type": "markdown",
   "id": "cc917593-cacf-458f-88be-488efbadb769",
   "metadata": {},
   "source": [
    "---\n",
    "This notebook's CI test result for us-west-2 is as follows. CI test results in other regions can be found at the end of the notebook.\n",
    "\n",
    "![This us-west-2 badge failed to load. Check your device's internet connectivity, otherwise the service is currently unavailable](https://prod.us-west-2.tcx-beacon.docs.aws.dev/sagemaker-nb/us-west-2/introduction_to_amazon_algorithms|jumpstart-foundation-models|llama-2-chat-completion.ipynb)\n",
    "\n",
    "---"
   ]
  },
  {
   "cell_type": "markdown",
   "id": "201b7217-42fd-4af7-9272-f9d060ae07f9",
   "metadata": {},
   "source": [
    "---\n",
    "In this demo notebook, we will demonstrate how to use promptBench, the unified library to evaluate and understand large language models. We will be using a llama 2 model on Amazon Bedrock by creating a class that integrates Meta's Llama 2 Chat models on Amazon Bedrock.\n",
    "\n",
    "We will begin by installing promptbench via the pip command. Once we have promptbench installed, we can change to the promptbench directory that is already in this lab and install the required packages in the requirements.txt file.\n",
    "\n",
    "---"
   ]
  },
  {
   "cell_type": "markdown",
   "id": "c53e49a4-c94a-49d8-a4e5-36cd8c12cc46",
   "metadata": {},
   "source": [
    "## Install promptBench package dependencies\n",
    "\n",
    "To begin benchmarking with promptbench, we begin by installing all of the promptbench library dependencies and installing the requirements.\n",
    "\n",
    "This example will walkthrough the basic usage of PromptBench and being able to leverage the promptbench library.\n",
    "\n",
    "PromptBench supports various datasets for the evaluation of large language models (LLMs) and is designed to be a unified library for evaluating and understanding LLMs. It consists of several key components that are easily used and extensible for reseachers, including prompt instruction, prompt engineering, dataset and model loading, adversarial prompt attack, dynamic evaluation protocols, and analysis tools."
   ]
  },
  {
   "cell_type": "code",
   "execution_count": 1,
   "id": "0335b84e-a8c3-4d0c-82a1-857a801eb312",
   "metadata": {
    "tags": []
   },
   "outputs": [
    {
     "name": "stdout",
     "output_type": "stream",
     "text": [
      "Requirement already satisfied: promptbench in /home/ec2-user/anaconda3/envs/python3/lib/python3.10/site-packages (0.0.2)\n",
      "Requirement already satisfied: autocorrect==2.6.1 in /home/ec2-user/anaconda3/envs/python3/lib/python3.10/site-packages (from promptbench) (2.6.1)\n",
      "Requirement already satisfied: accelerate==0.25.0 in /home/ec2-user/anaconda3/envs/python3/lib/python3.10/site-packages (from promptbench) (0.25.0)\n",
      "Requirement already satisfied: datasets==2.15.0 in /home/ec2-user/anaconda3/envs/python3/lib/python3.10/site-packages (from promptbench) (2.15.0)\n",
      "Requirement already satisfied: nltk==3.8.1 in /home/ec2-user/anaconda3/envs/python3/lib/python3.10/site-packages (from promptbench) (3.8.1)\n",
      "Requirement already satisfied: openai==1.3.7 in /home/ec2-user/anaconda3/envs/python3/lib/python3.10/site-packages (from promptbench) (1.3.7)\n",
      "Requirement already satisfied: sentencepiece==0.1.99 in /home/ec2-user/anaconda3/envs/python3/lib/python3.10/site-packages (from promptbench) (0.1.99)\n",
      "Requirement already satisfied: tokenizers==0.15.0 in /home/ec2-user/anaconda3/envs/python3/lib/python3.10/site-packages (from promptbench) (0.15.0)\n",
      "Requirement already satisfied: torch==2.1.1 in /home/ec2-user/anaconda3/envs/python3/lib/python3.10/site-packages (from promptbench) (2.1.1)\n",
      "Requirement already satisfied: tqdm==4.66.1 in /home/ec2-user/anaconda3/envs/python3/lib/python3.10/site-packages (from promptbench) (4.66.1)\n",
      "Requirement already satisfied: transformers==4.35.2 in /home/ec2-user/anaconda3/envs/python3/lib/python3.10/site-packages (from promptbench) (4.35.2)\n",
      "Requirement already satisfied: numpy>=1.17 in /home/ec2-user/anaconda3/envs/python3/lib/python3.10/site-packages (from accelerate==0.25.0->promptbench) (1.22.4)\n",
      "Requirement already satisfied: packaging>=20.0 in /home/ec2-user/anaconda3/envs/python3/lib/python3.10/site-packages (from accelerate==0.25.0->promptbench) (23.2)\n",
      "Requirement already satisfied: psutil in /home/ec2-user/anaconda3/envs/python3/lib/python3.10/site-packages (from accelerate==0.25.0->promptbench) (5.9.5)\n",
      "Requirement already satisfied: pyyaml in /home/ec2-user/anaconda3/envs/python3/lib/python3.10/site-packages (from accelerate==0.25.0->promptbench) (6.0.1)\n",
      "Requirement already satisfied: huggingface-hub in /home/ec2-user/anaconda3/envs/python3/lib/python3.10/site-packages (from accelerate==0.25.0->promptbench) (0.20.1)\n",
      "Requirement already satisfied: safetensors>=0.3.1 in /home/ec2-user/anaconda3/envs/python3/lib/python3.10/site-packages (from accelerate==0.25.0->promptbench) (0.4.1)\n",
      "Requirement already satisfied: pyarrow>=8.0.0 in /home/ec2-user/anaconda3/envs/python3/lib/python3.10/site-packages (from datasets==2.15.0->promptbench) (13.0.0)\n",
      "Requirement already satisfied: pyarrow-hotfix in /home/ec2-user/anaconda3/envs/python3/lib/python3.10/site-packages (from datasets==2.15.0->promptbench) (0.6)\n",
      "Requirement already satisfied: dill<0.3.8,>=0.3.0 in /home/ec2-user/anaconda3/envs/python3/lib/python3.10/site-packages (from datasets==2.15.0->promptbench) (0.3.7)\n",
      "Requirement already satisfied: pandas in /home/ec2-user/anaconda3/envs/python3/lib/python3.10/site-packages (from datasets==2.15.0->promptbench) (2.1.1)\n",
      "Requirement already satisfied: requests>=2.19.0 in /home/ec2-user/anaconda3/envs/python3/lib/python3.10/site-packages (from datasets==2.15.0->promptbench) (2.31.0)\n",
      "Requirement already satisfied: xxhash in /home/ec2-user/anaconda3/envs/python3/lib/python3.10/site-packages (from datasets==2.15.0->promptbench) (3.4.1)\n",
      "Requirement already satisfied: multiprocess in /home/ec2-user/anaconda3/envs/python3/lib/python3.10/site-packages (from datasets==2.15.0->promptbench) (0.70.15)\n",
      "Requirement already satisfied: fsspec<=2023.10.0,>=2023.1.0 in /home/ec2-user/anaconda3/envs/python3/lib/python3.10/site-packages (from fsspec[http]<=2023.10.0,>=2023.1.0->datasets==2.15.0->promptbench) (2023.10.0)\n",
      "Requirement already satisfied: aiohttp in /home/ec2-user/anaconda3/envs/python3/lib/python3.10/site-packages (from datasets==2.15.0->promptbench) (3.8.6)\n",
      "Requirement already satisfied: click in /home/ec2-user/anaconda3/envs/python3/lib/python3.10/site-packages (from nltk==3.8.1->promptbench) (8.1.7)\n",
      "Requirement already satisfied: joblib in /home/ec2-user/anaconda3/envs/python3/lib/python3.10/site-packages (from nltk==3.8.1->promptbench) (1.3.2)\n",
      "Requirement already satisfied: regex>=2021.8.3 in /home/ec2-user/anaconda3/envs/python3/lib/python3.10/site-packages (from nltk==3.8.1->promptbench) (2023.10.3)\n",
      "Requirement already satisfied: anyio<4,>=3.5.0 in /home/ec2-user/anaconda3/envs/python3/lib/python3.10/site-packages (from openai==1.3.7->promptbench) (3.7.1)\n",
      "Requirement already satisfied: distro<2,>=1.7.0 in /home/ec2-user/anaconda3/envs/python3/lib/python3.10/site-packages (from openai==1.3.7->promptbench) (1.9.0)\n",
      "Requirement already satisfied: httpx<1,>=0.23.0 in /home/ec2-user/anaconda3/envs/python3/lib/python3.10/site-packages (from openai==1.3.7->promptbench) (0.26.0)\n",
      "Requirement already satisfied: pydantic<3,>=1.9.0 in /home/ec2-user/anaconda3/envs/python3/lib/python3.10/site-packages (from openai==1.3.7->promptbench) (1.10.13)\n",
      "Requirement already satisfied: sniffio in /home/ec2-user/anaconda3/envs/python3/lib/python3.10/site-packages (from openai==1.3.7->promptbench) (1.3.0)\n",
      "Requirement already satisfied: typing-extensions<5,>=4.5 in /home/ec2-user/anaconda3/envs/python3/lib/python3.10/site-packages (from openai==1.3.7->promptbench) (4.8.0)\n",
      "Requirement already satisfied: filelock in /home/ec2-user/anaconda3/envs/python3/lib/python3.10/site-packages (from torch==2.1.1->promptbench) (3.12.4)\n",
      "Requirement already satisfied: sympy in /home/ec2-user/anaconda3/envs/python3/lib/python3.10/site-packages (from torch==2.1.1->promptbench) (1.12)\n",
      "Requirement already satisfied: networkx in /home/ec2-user/anaconda3/envs/python3/lib/python3.10/site-packages (from torch==2.1.1->promptbench) (3.2)\n",
      "Requirement already satisfied: jinja2 in /home/ec2-user/anaconda3/envs/python3/lib/python3.10/site-packages (from torch==2.1.1->promptbench) (3.1.2)\n",
      "Requirement already satisfied: nvidia-cuda-nvrtc-cu12==12.1.105 in /home/ec2-user/anaconda3/envs/python3/lib/python3.10/site-packages (from torch==2.1.1->promptbench) (12.1.105)\n",
      "Requirement already satisfied: nvidia-cuda-runtime-cu12==12.1.105 in /home/ec2-user/anaconda3/envs/python3/lib/python3.10/site-packages (from torch==2.1.1->promptbench) (12.1.105)\n",
      "Requirement already satisfied: nvidia-cuda-cupti-cu12==12.1.105 in /home/ec2-user/anaconda3/envs/python3/lib/python3.10/site-packages (from torch==2.1.1->promptbench) (12.1.105)\n",
      "Requirement already satisfied: nvidia-cudnn-cu12==8.9.2.26 in /home/ec2-user/anaconda3/envs/python3/lib/python3.10/site-packages (from torch==2.1.1->promptbench) (8.9.2.26)\n",
      "Requirement already satisfied: nvidia-cublas-cu12==12.1.3.1 in /home/ec2-user/anaconda3/envs/python3/lib/python3.10/site-packages (from torch==2.1.1->promptbench) (12.1.3.1)\n",
      "Requirement already satisfied: nvidia-cufft-cu12==11.0.2.54 in /home/ec2-user/anaconda3/envs/python3/lib/python3.10/site-packages (from torch==2.1.1->promptbench) (11.0.2.54)\n",
      "Requirement already satisfied: nvidia-curand-cu12==10.3.2.106 in /home/ec2-user/anaconda3/envs/python3/lib/python3.10/site-packages (from torch==2.1.1->promptbench) (10.3.2.106)\n",
      "Requirement already satisfied: nvidia-cusolver-cu12==11.4.5.107 in /home/ec2-user/anaconda3/envs/python3/lib/python3.10/site-packages (from torch==2.1.1->promptbench) (11.4.5.107)\n",
      "Requirement already satisfied: nvidia-cusparse-cu12==12.1.0.106 in /home/ec2-user/anaconda3/envs/python3/lib/python3.10/site-packages (from torch==2.1.1->promptbench) (12.1.0.106)\n",
      "Requirement already satisfied: nvidia-nccl-cu12==2.18.1 in /home/ec2-user/anaconda3/envs/python3/lib/python3.10/site-packages (from torch==2.1.1->promptbench) (2.18.1)\n",
      "Requirement already satisfied: nvidia-nvtx-cu12==12.1.105 in /home/ec2-user/anaconda3/envs/python3/lib/python3.10/site-packages (from torch==2.1.1->promptbench) (12.1.105)\n",
      "Requirement already satisfied: triton==2.1.0 in /home/ec2-user/anaconda3/envs/python3/lib/python3.10/site-packages (from torch==2.1.1->promptbench) (2.1.0)\n",
      "Requirement already satisfied: nvidia-nvjitlink-cu12 in /home/ec2-user/anaconda3/envs/python3/lib/python3.10/site-packages (from nvidia-cusolver-cu12==11.4.5.107->torch==2.1.1->promptbench) (12.3.101)\n",
      "Requirement already satisfied: idna>=2.8 in /home/ec2-user/anaconda3/envs/python3/lib/python3.10/site-packages (from anyio<4,>=3.5.0->openai==1.3.7->promptbench) (3.4)\n",
      "Requirement already satisfied: exceptiongroup in /home/ec2-user/anaconda3/envs/python3/lib/python3.10/site-packages (from anyio<4,>=3.5.0->openai==1.3.7->promptbench) (1.1.3)\n",
      "Requirement already satisfied: attrs>=17.3.0 in /home/ec2-user/anaconda3/envs/python3/lib/python3.10/site-packages (from aiohttp->datasets==2.15.0->promptbench) (23.1.0)\n",
      "Requirement already satisfied: charset-normalizer<4.0,>=2.0 in /home/ec2-user/anaconda3/envs/python3/lib/python3.10/site-packages (from aiohttp->datasets==2.15.0->promptbench) (3.3.1)\n",
      "Requirement already satisfied: multidict<7.0,>=4.5 in /home/ec2-user/anaconda3/envs/python3/lib/python3.10/site-packages (from aiohttp->datasets==2.15.0->promptbench) (6.0.4)\n",
      "Requirement already satisfied: async-timeout<5.0,>=4.0.0a3 in /home/ec2-user/anaconda3/envs/python3/lib/python3.10/site-packages (from aiohttp->datasets==2.15.0->promptbench) (4.0.3)\n",
      "Requirement already satisfied: yarl<2.0,>=1.0 in /home/ec2-user/anaconda3/envs/python3/lib/python3.10/site-packages (from aiohttp->datasets==2.15.0->promptbench) (1.9.2)\n",
      "Requirement already satisfied: frozenlist>=1.1.1 in /home/ec2-user/anaconda3/envs/python3/lib/python3.10/site-packages (from aiohttp->datasets==2.15.0->promptbench) (1.4.0)\n",
      "Requirement already satisfied: aiosignal>=1.1.2 in /home/ec2-user/anaconda3/envs/python3/lib/python3.10/site-packages (from aiohttp->datasets==2.15.0->promptbench) (1.3.1)\n",
      "Requirement already satisfied: certifi in /home/ec2-user/anaconda3/envs/python3/lib/python3.10/site-packages (from httpx<1,>=0.23.0->openai==1.3.7->promptbench) (2023.7.22)\n",
      "Requirement already satisfied: httpcore==1.* in /home/ec2-user/anaconda3/envs/python3/lib/python3.10/site-packages (from httpx<1,>=0.23.0->openai==1.3.7->promptbench) (1.0.2)\n",
      "Requirement already satisfied: h11<0.15,>=0.13 in /home/ec2-user/anaconda3/envs/python3/lib/python3.10/site-packages (from httpcore==1.*->httpx<1,>=0.23.0->openai==1.3.7->promptbench) (0.14.0)\n",
      "Requirement already satisfied: urllib3<3,>=1.21.1 in /home/ec2-user/anaconda3/envs/python3/lib/python3.10/site-packages (from requests>=2.19.0->datasets==2.15.0->promptbench) (2.1.0)\n",
      "Requirement already satisfied: MarkupSafe>=2.0 in /home/ec2-user/anaconda3/envs/python3/lib/python3.10/site-packages (from jinja2->torch==2.1.1->promptbench) (2.1.3)\n",
      "Requirement already satisfied: python-dateutil>=2.8.2 in /home/ec2-user/anaconda3/envs/python3/lib/python3.10/site-packages (from pandas->datasets==2.15.0->promptbench) (2.8.2)\n",
      "Requirement already satisfied: pytz>=2020.1 in /home/ec2-user/anaconda3/envs/python3/lib/python3.10/site-packages (from pandas->datasets==2.15.0->promptbench) (2023.3.post1)\n",
      "Requirement already satisfied: tzdata>=2022.1 in /home/ec2-user/anaconda3/envs/python3/lib/python3.10/site-packages (from pandas->datasets==2.15.0->promptbench) (2023.3)\n",
      "Requirement already satisfied: mpmath>=0.19 in /home/ec2-user/anaconda3/envs/python3/lib/python3.10/site-packages (from sympy->torch==2.1.1->promptbench) (1.3.0)\n",
      "Requirement already satisfied: six>=1.5 in /home/ec2-user/anaconda3/envs/python3/lib/python3.10/site-packages (from python-dateutil>=2.8.2->pandas->datasets==2.15.0->promptbench) (1.16.0)\n",
      "Note: you may need to restart the kernel to use updated packages.\n"
     ]
    }
   ],
   "source": [
    "pip install promptbench"
   ]
  },
  {
   "cell_type": "code",
   "execution_count": 3,
   "id": "cda08145-e554-4aea-a7da-2eeafe9ae101",
   "metadata": {
    "tags": []
   },
   "outputs": [
    {
     "name": "stdout",
     "output_type": "stream",
     "text": [
      "Requirement already satisfied: autocorrect==2.6.1 in /home/ec2-user/anaconda3/envs/python3/lib/python3.10/site-packages (from -r requirements.txt (line 1)) (2.6.1)\n",
      "Requirement already satisfied: accelerate==0.25.0 in /home/ec2-user/anaconda3/envs/python3/lib/python3.10/site-packages (from -r requirements.txt (line 2)) (0.25.0)\n",
      "Requirement already satisfied: datasets==2.15.0 in /home/ec2-user/anaconda3/envs/python3/lib/python3.10/site-packages (from -r requirements.txt (line 3)) (2.15.0)\n",
      "Requirement already satisfied: nltk==3.8.1 in /home/ec2-user/anaconda3/envs/python3/lib/python3.10/site-packages (from -r requirements.txt (line 4)) (3.8.1)\n",
      "Requirement already satisfied: openai==1.3.7 in /home/ec2-user/anaconda3/envs/python3/lib/python3.10/site-packages (from -r requirements.txt (line 5)) (1.3.7)\n",
      "Requirement already satisfied: sentencepiece==0.1.99 in /home/ec2-user/anaconda3/envs/python3/lib/python3.10/site-packages (from -r requirements.txt (line 6)) (0.1.99)\n",
      "Requirement already satisfied: tokenizers==0.15.0 in /home/ec2-user/anaconda3/envs/python3/lib/python3.10/site-packages (from -r requirements.txt (line 7)) (0.15.0)\n",
      "Requirement already satisfied: torch==2.1.1 in /home/ec2-user/anaconda3/envs/python3/lib/python3.10/site-packages (from -r requirements.txt (line 8)) (2.1.1)\n",
      "Requirement already satisfied: tqdm==4.66.1 in /home/ec2-user/anaconda3/envs/python3/lib/python3.10/site-packages (from -r requirements.txt (line 9)) (4.66.1)\n",
      "Collecting transformers==4.36.2 (from -r requirements.txt (line 10))\n",
      "  Using cached transformers-4.36.2-py3-none-any.whl.metadata (126 kB)\n",
      "Requirement already satisfied: numpy>=1.17 in /home/ec2-user/anaconda3/envs/python3/lib/python3.10/site-packages (from accelerate==0.25.0->-r requirements.txt (line 2)) (1.22.4)\n",
      "Requirement already satisfied: packaging>=20.0 in /home/ec2-user/anaconda3/envs/python3/lib/python3.10/site-packages (from accelerate==0.25.0->-r requirements.txt (line 2)) (23.2)\n",
      "Requirement already satisfied: psutil in /home/ec2-user/anaconda3/envs/python3/lib/python3.10/site-packages (from accelerate==0.25.0->-r requirements.txt (line 2)) (5.9.5)\n",
      "Requirement already satisfied: pyyaml in /home/ec2-user/anaconda3/envs/python3/lib/python3.10/site-packages (from accelerate==0.25.0->-r requirements.txt (line 2)) (6.0.1)\n",
      "Requirement already satisfied: huggingface-hub in /home/ec2-user/anaconda3/envs/python3/lib/python3.10/site-packages (from accelerate==0.25.0->-r requirements.txt (line 2)) (0.20.1)\n",
      "Requirement already satisfied: safetensors>=0.3.1 in /home/ec2-user/anaconda3/envs/python3/lib/python3.10/site-packages (from accelerate==0.25.0->-r requirements.txt (line 2)) (0.4.1)\n",
      "Requirement already satisfied: pyarrow>=8.0.0 in /home/ec2-user/anaconda3/envs/python3/lib/python3.10/site-packages (from datasets==2.15.0->-r requirements.txt (line 3)) (13.0.0)\n",
      "Requirement already satisfied: pyarrow-hotfix in /home/ec2-user/anaconda3/envs/python3/lib/python3.10/site-packages (from datasets==2.15.0->-r requirements.txt (line 3)) (0.6)\n",
      "Requirement already satisfied: dill<0.3.8,>=0.3.0 in /home/ec2-user/anaconda3/envs/python3/lib/python3.10/site-packages (from datasets==2.15.0->-r requirements.txt (line 3)) (0.3.7)\n",
      "Requirement already satisfied: pandas in /home/ec2-user/anaconda3/envs/python3/lib/python3.10/site-packages (from datasets==2.15.0->-r requirements.txt (line 3)) (2.1.1)\n",
      "Requirement already satisfied: requests>=2.19.0 in /home/ec2-user/anaconda3/envs/python3/lib/python3.10/site-packages (from datasets==2.15.0->-r requirements.txt (line 3)) (2.31.0)\n",
      "Requirement already satisfied: xxhash in /home/ec2-user/anaconda3/envs/python3/lib/python3.10/site-packages (from datasets==2.15.0->-r requirements.txt (line 3)) (3.4.1)\n",
      "Requirement already satisfied: multiprocess in /home/ec2-user/anaconda3/envs/python3/lib/python3.10/site-packages (from datasets==2.15.0->-r requirements.txt (line 3)) (0.70.15)\n",
      "Requirement already satisfied: fsspec<=2023.10.0,>=2023.1.0 in /home/ec2-user/anaconda3/envs/python3/lib/python3.10/site-packages (from fsspec[http]<=2023.10.0,>=2023.1.0->datasets==2.15.0->-r requirements.txt (line 3)) (2023.10.0)\n",
      "Requirement already satisfied: aiohttp in /home/ec2-user/anaconda3/envs/python3/lib/python3.10/site-packages (from datasets==2.15.0->-r requirements.txt (line 3)) (3.8.6)\n",
      "Requirement already satisfied: click in /home/ec2-user/anaconda3/envs/python3/lib/python3.10/site-packages (from nltk==3.8.1->-r requirements.txt (line 4)) (8.1.7)\n",
      "Requirement already satisfied: joblib in /home/ec2-user/anaconda3/envs/python3/lib/python3.10/site-packages (from nltk==3.8.1->-r requirements.txt (line 4)) (1.3.2)\n",
      "Requirement already satisfied: regex>=2021.8.3 in /home/ec2-user/anaconda3/envs/python3/lib/python3.10/site-packages (from nltk==3.8.1->-r requirements.txt (line 4)) (2023.10.3)\n",
      "Requirement already satisfied: anyio<4,>=3.5.0 in /home/ec2-user/anaconda3/envs/python3/lib/python3.10/site-packages (from openai==1.3.7->-r requirements.txt (line 5)) (3.7.1)\n",
      "Requirement already satisfied: distro<2,>=1.7.0 in /home/ec2-user/anaconda3/envs/python3/lib/python3.10/site-packages (from openai==1.3.7->-r requirements.txt (line 5)) (1.9.0)\n",
      "Requirement already satisfied: httpx<1,>=0.23.0 in /home/ec2-user/anaconda3/envs/python3/lib/python3.10/site-packages (from openai==1.3.7->-r requirements.txt (line 5)) (0.26.0)\n",
      "Requirement already satisfied: pydantic<3,>=1.9.0 in /home/ec2-user/anaconda3/envs/python3/lib/python3.10/site-packages (from openai==1.3.7->-r requirements.txt (line 5)) (1.10.13)\n",
      "Requirement already satisfied: sniffio in /home/ec2-user/anaconda3/envs/python3/lib/python3.10/site-packages (from openai==1.3.7->-r requirements.txt (line 5)) (1.3.0)\n",
      "Requirement already satisfied: typing-extensions<5,>=4.5 in /home/ec2-user/anaconda3/envs/python3/lib/python3.10/site-packages (from openai==1.3.7->-r requirements.txt (line 5)) (4.8.0)\n",
      "Requirement already satisfied: filelock in /home/ec2-user/anaconda3/envs/python3/lib/python3.10/site-packages (from torch==2.1.1->-r requirements.txt (line 8)) (3.12.4)\n",
      "Requirement already satisfied: sympy in /home/ec2-user/anaconda3/envs/python3/lib/python3.10/site-packages (from torch==2.1.1->-r requirements.txt (line 8)) (1.12)\n",
      "Requirement already satisfied: networkx in /home/ec2-user/anaconda3/envs/python3/lib/python3.10/site-packages (from torch==2.1.1->-r requirements.txt (line 8)) (3.2)\n",
      "Requirement already satisfied: jinja2 in /home/ec2-user/anaconda3/envs/python3/lib/python3.10/site-packages (from torch==2.1.1->-r requirements.txt (line 8)) (3.1.2)\n",
      "Requirement already satisfied: nvidia-cuda-nvrtc-cu12==12.1.105 in /home/ec2-user/anaconda3/envs/python3/lib/python3.10/site-packages (from torch==2.1.1->-r requirements.txt (line 8)) (12.1.105)\n",
      "Requirement already satisfied: nvidia-cuda-runtime-cu12==12.1.105 in /home/ec2-user/anaconda3/envs/python3/lib/python3.10/site-packages (from torch==2.1.1->-r requirements.txt (line 8)) (12.1.105)\n",
      "Requirement already satisfied: nvidia-cuda-cupti-cu12==12.1.105 in /home/ec2-user/anaconda3/envs/python3/lib/python3.10/site-packages (from torch==2.1.1->-r requirements.txt (line 8)) (12.1.105)\n",
      "Requirement already satisfied: nvidia-cudnn-cu12==8.9.2.26 in /home/ec2-user/anaconda3/envs/python3/lib/python3.10/site-packages (from torch==2.1.1->-r requirements.txt (line 8)) (8.9.2.26)\n",
      "Requirement already satisfied: nvidia-cublas-cu12==12.1.3.1 in /home/ec2-user/anaconda3/envs/python3/lib/python3.10/site-packages (from torch==2.1.1->-r requirements.txt (line 8)) (12.1.3.1)\n",
      "Requirement already satisfied: nvidia-cufft-cu12==11.0.2.54 in /home/ec2-user/anaconda3/envs/python3/lib/python3.10/site-packages (from torch==2.1.1->-r requirements.txt (line 8)) (11.0.2.54)\n",
      "Requirement already satisfied: nvidia-curand-cu12==10.3.2.106 in /home/ec2-user/anaconda3/envs/python3/lib/python3.10/site-packages (from torch==2.1.1->-r requirements.txt (line 8)) (10.3.2.106)\n",
      "Requirement already satisfied: nvidia-cusolver-cu12==11.4.5.107 in /home/ec2-user/anaconda3/envs/python3/lib/python3.10/site-packages (from torch==2.1.1->-r requirements.txt (line 8)) (11.4.5.107)\n",
      "Requirement already satisfied: nvidia-cusparse-cu12==12.1.0.106 in /home/ec2-user/anaconda3/envs/python3/lib/python3.10/site-packages (from torch==2.1.1->-r requirements.txt (line 8)) (12.1.0.106)\n",
      "Requirement already satisfied: nvidia-nccl-cu12==2.18.1 in /home/ec2-user/anaconda3/envs/python3/lib/python3.10/site-packages (from torch==2.1.1->-r requirements.txt (line 8)) (2.18.1)\n",
      "Requirement already satisfied: nvidia-nvtx-cu12==12.1.105 in /home/ec2-user/anaconda3/envs/python3/lib/python3.10/site-packages (from torch==2.1.1->-r requirements.txt (line 8)) (12.1.105)\n",
      "Requirement already satisfied: triton==2.1.0 in /home/ec2-user/anaconda3/envs/python3/lib/python3.10/site-packages (from torch==2.1.1->-r requirements.txt (line 8)) (2.1.0)\n",
      "Requirement already satisfied: nvidia-nvjitlink-cu12 in /home/ec2-user/anaconda3/envs/python3/lib/python3.10/site-packages (from nvidia-cusolver-cu12==11.4.5.107->torch==2.1.1->-r requirements.txt (line 8)) (12.3.101)\n",
      "Requirement already satisfied: idna>=2.8 in /home/ec2-user/anaconda3/envs/python3/lib/python3.10/site-packages (from anyio<4,>=3.5.0->openai==1.3.7->-r requirements.txt (line 5)) (3.4)\n",
      "Requirement already satisfied: exceptiongroup in /home/ec2-user/anaconda3/envs/python3/lib/python3.10/site-packages (from anyio<4,>=3.5.0->openai==1.3.7->-r requirements.txt (line 5)) (1.1.3)\n",
      "Requirement already satisfied: attrs>=17.3.0 in /home/ec2-user/anaconda3/envs/python3/lib/python3.10/site-packages (from aiohttp->datasets==2.15.0->-r requirements.txt (line 3)) (23.1.0)\n",
      "Requirement already satisfied: charset-normalizer<4.0,>=2.0 in /home/ec2-user/anaconda3/envs/python3/lib/python3.10/site-packages (from aiohttp->datasets==2.15.0->-r requirements.txt (line 3)) (3.3.1)\n",
      "Requirement already satisfied: multidict<7.0,>=4.5 in /home/ec2-user/anaconda3/envs/python3/lib/python3.10/site-packages (from aiohttp->datasets==2.15.0->-r requirements.txt (line 3)) (6.0.4)\n",
      "Requirement already satisfied: async-timeout<5.0,>=4.0.0a3 in /home/ec2-user/anaconda3/envs/python3/lib/python3.10/site-packages (from aiohttp->datasets==2.15.0->-r requirements.txt (line 3)) (4.0.3)\n",
      "Requirement already satisfied: yarl<2.0,>=1.0 in /home/ec2-user/anaconda3/envs/python3/lib/python3.10/site-packages (from aiohttp->datasets==2.15.0->-r requirements.txt (line 3)) (1.9.2)\n",
      "Requirement already satisfied: frozenlist>=1.1.1 in /home/ec2-user/anaconda3/envs/python3/lib/python3.10/site-packages (from aiohttp->datasets==2.15.0->-r requirements.txt (line 3)) (1.4.0)\n",
      "Requirement already satisfied: aiosignal>=1.1.2 in /home/ec2-user/anaconda3/envs/python3/lib/python3.10/site-packages (from aiohttp->datasets==2.15.0->-r requirements.txt (line 3)) (1.3.1)\n",
      "Requirement already satisfied: certifi in /home/ec2-user/anaconda3/envs/python3/lib/python3.10/site-packages (from httpx<1,>=0.23.0->openai==1.3.7->-r requirements.txt (line 5)) (2023.7.22)\n",
      "Requirement already satisfied: httpcore==1.* in /home/ec2-user/anaconda3/envs/python3/lib/python3.10/site-packages (from httpx<1,>=0.23.0->openai==1.3.7->-r requirements.txt (line 5)) (1.0.2)\n",
      "Requirement already satisfied: h11<0.15,>=0.13 in /home/ec2-user/anaconda3/envs/python3/lib/python3.10/site-packages (from httpcore==1.*->httpx<1,>=0.23.0->openai==1.3.7->-r requirements.txt (line 5)) (0.14.0)\n",
      "Requirement already satisfied: urllib3<3,>=1.21.1 in /home/ec2-user/anaconda3/envs/python3/lib/python3.10/site-packages (from requests>=2.19.0->datasets==2.15.0->-r requirements.txt (line 3)) (2.1.0)\n",
      "Requirement already satisfied: MarkupSafe>=2.0 in /home/ec2-user/anaconda3/envs/python3/lib/python3.10/site-packages (from jinja2->torch==2.1.1->-r requirements.txt (line 8)) (2.1.3)\n",
      "Requirement already satisfied: python-dateutil>=2.8.2 in /home/ec2-user/anaconda3/envs/python3/lib/python3.10/site-packages (from pandas->datasets==2.15.0->-r requirements.txt (line 3)) (2.8.2)\n",
      "Requirement already satisfied: pytz>=2020.1 in /home/ec2-user/anaconda3/envs/python3/lib/python3.10/site-packages (from pandas->datasets==2.15.0->-r requirements.txt (line 3)) (2023.3.post1)\n",
      "Requirement already satisfied: tzdata>=2022.1 in /home/ec2-user/anaconda3/envs/python3/lib/python3.10/site-packages (from pandas->datasets==2.15.0->-r requirements.txt (line 3)) (2023.3)\n",
      "Requirement already satisfied: mpmath>=0.19 in /home/ec2-user/anaconda3/envs/python3/lib/python3.10/site-packages (from sympy->torch==2.1.1->-r requirements.txt (line 8)) (1.3.0)\n",
      "Requirement already satisfied: six>=1.5 in /home/ec2-user/anaconda3/envs/python3/lib/python3.10/site-packages (from python-dateutil>=2.8.2->pandas->datasets==2.15.0->-r requirements.txt (line 3)) (1.16.0)\n",
      "Using cached transformers-4.36.2-py3-none-any.whl (8.2 MB)\n",
      "Installing collected packages: transformers\n",
      "  Attempting uninstall: transformers\n",
      "    Found existing installation: transformers 4.35.2\n",
      "    Uninstalling transformers-4.35.2:\n",
      "      Successfully uninstalled transformers-4.35.2\n",
      "\u001b[31mERROR: pip's dependency resolver does not currently take into account all the packages that are installed. This behaviour is the source of the following dependency conflicts.\n",
      "promptbench 0.0.2 requires transformers==4.35.2, but you have transformers 4.36.2 which is incompatible.\u001b[0m\u001b[31m\n",
      "\u001b[0mSuccessfully installed transformers-4.36.2\n",
      "Note: you may need to restart the kernel to use updated packages.\n"
     ]
    }
   ],
   "source": [
    "pip install -r requirements.txt"
   ]
  },
  {
   "cell_type": "markdown",
   "id": "23adc2de-2f35-40fd-a730-00d9578dcc79",
   "metadata": {},
   "source": [
    "## Import Promptbench / Amazon Bedrock dependencies \n",
    "\n",
    "Let's begin by importing promptbench and bedrock dependencies for our environment. This will allow us to invoke our llama 2 model on Amazon Bedrock and evaluate the accuracy of the sentiment analysis prompts that are loaded through the 'sst2' dataset."
   ]
  },
  {
   "cell_type": "code",
   "execution_count": 119,
   "id": "3538c33a-2b51-4b8d-b3c3-21266fb1a578",
   "metadata": {
    "tags": []
   },
   "outputs": [],
   "source": [
    "import promptbench as pb\n",
    "import bedrock\n",
    "import botocore\n",
    "import json\n",
    "import os"
   ]
  },
  {
   "cell_type": "code",
   "execution_count": 120,
   "id": "79e07cde-ad85-45a8-a204-48ffea46adbd",
   "metadata": {
    "tags": []
   },
   "outputs": [
    {
     "name": "stdout",
     "output_type": "stream",
     "text": [
      "Create new client\n",
      "  Using region: None\n",
      "boto3 Bedrock client successfully created!\n",
      "bedrock-runtime(https://bedrock-runtime.us-west-2.amazonaws.com)\n"
     ]
    }
   ],
   "source": [
    "bedrock_runtime = bedrock.get_bedrock_client(\n",
    "    assumed_role=os.environ.get(\"BEDROCK_ASSUME_ROLE\", None),\n",
    "    region=os.environ.get(\"AWS_DEFAULT_REGION\", None)\n",
    ")"
   ]
  },
  {
   "cell_type": "code",
   "execution_count": 136,
   "id": "1b4e912d-2146-4f1c-b8d7-41b412105dff",
   "metadata": {
    "tags": []
   },
   "outputs": [
    {
     "name": "stdout",
     "output_type": "stream",
     "text": [
      "Help on class LMMBaseModel in module promptbench.models.models:\n",
      "\n",
      "class LMMBaseModel(abc.ABC)\n",
      " |  LMMBaseModel(model_name, max_new_tokens, temperature, device='auto')\n",
      " |  \n",
      " |  Abstract base class for language model interfaces.\n",
      " |  \n",
      " |  This class provides a common interface for various language models and includes methods for prediction.\n",
      " |  \n",
      " |  Parameters:\n",
      " |  -----------\n",
      " |  model : str\n",
      " |      The name of the language model.\n",
      " |  max_new_tokens : int\n",
      " |      The maximum number of new tokens to be generated.\n",
      " |  temperature : float\n",
      " |      The temperature for text generation (default is 0).\n",
      " |  device: str\n",
      " |      The device to use for inference (default is 'auto').\n",
      " |  \n",
      " |  Methods:\n",
      " |  --------\n",
      " |  predict(input_text, **kwargs)\n",
      " |      Generates a prediction based on the input text.\n",
      " |  __call__(input_text, **kwargs)\n",
      " |      Shortcut for predict method.\n",
      " |  \n",
      " |  Method resolution order:\n",
      " |      LMMBaseModel\n",
      " |      abc.ABC\n",
      " |      builtins.object\n",
      " |  \n",
      " |  Methods defined here:\n",
      " |  \n",
      " |  __call__(self, input_text, **kwargs)\n",
      " |      Call self as a function.\n",
      " |  \n",
      " |  __init__(self, model_name, max_new_tokens, temperature, device='auto')\n",
      " |      Initialize self.  See help(type(self)) for accurate signature.\n",
      " |  \n",
      " |  predict(self, input_text, **kwargs)\n",
      " |  \n",
      " |  ----------------------------------------------------------------------\n",
      " |  Data descriptors defined here:\n",
      " |  \n",
      " |  __dict__\n",
      " |      dictionary for instance variables (if defined)\n",
      " |  \n",
      " |  __weakref__\n",
      " |      list of weak references to the object (if defined)\n",
      " |  \n",
      " |  ----------------------------------------------------------------------\n",
      " |  Data and other attributes defined here:\n",
      " |  \n",
      " |  __abstractmethods__ = frozenset()\n",
      "\n"
     ]
    }
   ],
   "source": [
    "# used to understand model syntax, can skip this cell.\n",
    "help(pb.models.LMMBaseModel)"
   ]
  },
  {
   "cell_type": "markdown",
   "id": "412e057a-52fd-4c60-9e6f-c7d60d7c445b",
   "metadata": {},
   "source": [
    "## Implement llama 2 on Amazon Bedrock interface\n",
    "\n",
    "Now we will create a Llama2Bedrock class that will allow you to invoke your llama 2 model by acting as the model interface for llama 2 on Amazon Bedrock.\n",
    "\n",
    "The class will read the following parameters:\n",
    "- 'modelID:' the ID of the Llama 2 model.\n",
    "- 'max_gen_len': the maximum number of new tokens to be generated.\n",
    "- 'temperature': the temperature for text generation (default is 0.2).\n",
    "- 'top_p': iff set to a float less than 1, only the smallest set of most probable tokens with probabilities that add up to top_p or higher are kept for generation (default is 0.9).\n",
    "\n",
    "The Llama2Bedrock class will be used to load the llama 13b chat model and generate text based on the prompt input.\n",
    "\n",
    "The **'__init__'** method will initialize the model with the provided parameters while the **'predict'** method will generate text based on the text input and the specified model parameters. "
   ]
  },
  {
   "cell_type": "code",
   "execution_count": 123,
   "id": "66902761-4803-46fd-9937-fc304c60e0e1",
   "metadata": {
    "tags": []
   },
   "outputs": [],
   "source": [
    "class Llama2Bedrock(pb.models.LMMBaseModel):\n",
    "    \"\"\"\n",
    "    Language model class for interfacing with Llama2 models on Amazon Bedrock.\n",
    "\n",
    "    Inherits from LMMBaseModel and sets up a model interface for Llama2 models on Amazon Bedrock.\n",
    "\n",
    "    Parameters:\n",
    "    -----------\n",
    "    modelId : str\n",
    "        The Id of the Llama2 model.\n",
    "    max_gen_len : int\n",
    "        The maximum number of new tokens to be generated.\n",
    "    temperature : float, optional\n",
    "        The temperature for text generation (default is 0.2).\n",
    "    top_p : str, optional\n",
    "        If set to float less than 1, only the smallest set of most probable tokens with probabilities that add up to top_p or higher are kept for generation. (default is 0.9).\n",
    "    \"\"\"\n",
    "    def __init__(self, modelId, bedrock_runtime, system_prompt=None, max_gen_len=1024, temperature=0.2, top_p=0.9):\n",
    "        super(Llama2Bedrock, self).__init__(modelId, max_gen_len, temperature, top_p)\n",
    "        self.modelId = modelId\n",
    "        self.bedrock_runtime = bedrock_runtime\n",
    "        self.max_gen_len = max_gen_len\n",
    "        self.top_p = top_p\n",
    "        if system_prompt is None:\n",
    "            self.system_prompt = \"You are a helpful, respectful and honest assistant. Always answer as helpfully as possible, while being safe.  Your answers should not include any harmful, unethical, racist, sexist, toxic, dangerous, or illegal content. Please ensure that your responses are socially unbiased and positive in nature.\\nIf a question does not make any sense, or is not factually coherent, explain why instead of answering something not correct. If you don't know the answer to a question, please don't share false information.\"\n",
    "        else:\n",
    "            self.system_prompt = system_prompt\n",
    "    \n",
    "    def predict(self, input_text, **kwargs):\n",
    "        try:\n",
    "            input_text = f\"<s>[INST] <<SYS>>{self.system_prompt}<</SYS>>\\n{input_text}[/INST]\"\n",
    "            body = json.dumps({\"prompt\": input_text, \"max_gen_len\": self.max_gen_len,\n",
    "                               \"temperature\": self.temperature, \"top_p\": self.top_p})\n",
    "            accept = \"application/json\"\n",
    "            contentType = \"application/json\"\n",
    "\n",
    "            response = self.bedrock_runtime.invoke_model(\n",
    "                    body=body, modelId=self.modelId, accept=accept, contentType=contentType\n",
    "            )\n",
    "            response_body = json.loads(response.get(\"body\").read())\n",
    "            #print(f\"prompt_token_count: {response_body.get('prompt_token_count')}\")\n",
    "            #print(f\"generation_token_count: {response_body.get('generation_token_count')}\")\n",
    "            #print(response_body.get(\"generation\"))\n",
    "            \n",
    "            return response_body.get(\"generation\")\n",
    "\n",
    "        except botocore.exceptions.ClientError as error:\n",
    "\n",
    "            if error.response['Error']['Code'] == 'AccessDeniedException':\n",
    "                   print(f\"\\x1b[41m{error.response['Error']['Message']}\\\n",
    "                        \\nTo troubeshoot this issue please refer to the following resources.\\\n",
    "                         \\nhttps://docs.aws.amazon.com/IAM/latest/UserGuide/troubleshoot_access-denied.html\\\n",
    "                         \\nhttps://docs.aws.amazon.com/bedrock/latest/userguide/security-iam.html\\x1b[0m\\n\")\n",
    "\n",
    "            else:\n",
    "                raise error"
   ]
  },
  {
   "cell_type": "markdown",
   "id": "067a983e-ca62-4d14-9cb1-3a5a167614a1",
   "metadata": {},
   "source": [
    "## Load the dataset\n",
    "\n",
    "Now that we have imported promptbench and set up our Llama2Bedrock class, we will now load and define the dataset that we will use to evaluate our prompt accuracy.\n",
    "\n",
    "Promptbench supports the following datasets: 'sst2', 'cola', 'qqp', 'mnli', 'mnli_matched', 'qnli', 'wnli', 'rte', 'mrpc', 'mmlu', 'squad_v2', 'un_multi', 'iwslt2017', 'math', 'bool_logic', 'valid_parentheses', 'gsm8k', 'csqa', 'bigbench_date', 'bigbench_object_tracking', 'last_letter_concat', 'numersense', 'qasc'.\n",
    "\n",
    "To load a dataset in promptbench, you can use the \"DatasetLoader' interface, which provides a streamlined one-line API for laoding the desired dataset.\n",
    "\n",
    "In this example we will be using promptbench to load the 'sst2' dataset, which stands for the \"Stanford Sentiment Treebank\" dataset, which is widely used to support sentiment analysis tasks. Loading a dataset in promptbench is essential for evaluating and understanding large language models (LLMs) and is a fundamental step for leveraging the library's unified framework to analyze the performance of LLMs acorss different tasks and datasets. "
   ]
  },
  {
   "cell_type": "code",
   "execution_count": 124,
   "id": "27c2b619-308f-437c-9268-376377e98b6e",
   "metadata": {
    "tags": []
   },
   "outputs": [
    {
     "name": "stdout",
     "output_type": "stream",
     "text": [
      "All supported datasets: \n",
      "['sst2', 'cola', 'qqp', 'mnli', 'mnli_matched', 'mnli_mismatched', 'qnli', 'wnli', 'rte', 'mrpc', 'mmlu', 'squad_v2', 'un_multi', 'iwslt2017', 'math', 'bool_logic', 'valid_parentheses', 'gsm8k', 'csqa', 'bigbench_date', 'bigbench_object_tracking', 'last_letter_concat', 'numersense', 'qasc']\n"
     ]
    },
    {
     "data": {
      "text/plain": [
       "[{'content': \"it 's a charming and often affecting journey . \", 'label': 1},\n",
       " {'content': 'unflinchingly bleak and desperate ', 'label': 0},\n",
       " {'content': 'allows us to hope that nolan is poised to embark a major career as a commercial yet inventive filmmaker . ',\n",
       "  'label': 1},\n",
       " {'content': \"the acting , costumes , music , cinematography and sound are all astounding given the production 's austere locales . \",\n",
       "  'label': 1},\n",
       " {'content': \"it 's slow -- very , very slow . \", 'label': 0}]"
      ]
     },
     "execution_count": 124,
     "metadata": {},
     "output_type": "execute_result"
    }
   ],
   "source": [
    "# print all supported datasets in promptbench\n",
    "print('All supported datasets: ')\n",
    "print(pb.SUPPORTED_DATASETS)\n",
    "\n",
    "# load a dataset, sst2, for instance.\n",
    "# if the dataset is not available locally, it will be downloaded automatically.\n",
    "dataset_name = \"sst2\"\n",
    "dataset = pb.DatasetLoader.load_dataset(dataset_name)\n",
    "\n",
    "# print the first 5 examples\n",
    "dataset[:5]"
   ]
  },
  {
   "cell_type": "markdown",
   "id": "a3764f77-9c24-470a-98ef-979f1210df2b",
   "metadata": {},
   "source": [
    "***Note: In the cell above, we can see that the 'sst2' dataset has the format of 'content' and 'label', with content being the tokens as a string of sentences and label having a binary classification of 1 and 0.***"
   ]
  },
  {
   "cell_type": "markdown",
   "id": "8d6f93fe-242c-48ec-97ed-8fc33e4aff46",
   "metadata": {},
   "source": [
    "## Load the model(s)\n",
    "\n",
    "Now we can easily load LLM models via the promptbench API.\n",
    "\n",
    "Loading the model is essential to evaluating and understand the provided LLM, as users can perform various analysis such as prompt engineering, model performance comparison, and robustness testing. \n",
    "\n",
    "All supported models include: [['google/flan-t5-large', 'llama2-7b', 'llama2-7b-chat', 'llama2-13b', 'llama2-13b-chat', 'llama2-70b', 'llama2-70b-chat', 'phi-1.5', 'palm', 'gpt-3.5-turbo', 'gpt-4', 'gpt-4-1106-preview', 'gpt-3.5-turbo-1106', 'vicuna-7b', 'vicuna-13b', 'vicuna-13b-v1.3', 'google/flan-ul2']\n",
    "\n",
    "However, we will be using the llama2-13b-chat model which is available via Amazon Bedrock. Additionally, we will set the model parameters with the Llama2Bedrock class that was just created."
   ]
  },
  {
   "cell_type": "code",
   "execution_count": 132,
   "id": "457ed9d5-9466-4bf4-8e6b-8db281a8fb2c",
   "metadata": {
    "tags": []
   },
   "outputs": [
    {
     "name": "stdout",
     "output_type": "stream",
     "text": [
      "All supported models: \n",
      "['google/flan-t5-large', 'llama2-7b', 'llama2-7b-chat', 'llama2-13b', 'llama2-13b-chat', 'llama2-70b', 'llama2-70b-chat', 'phi-1.5', 'phi-2', 'palm', 'gpt-3.5-turbo', 'gpt-4', 'gpt-4-1106-preview', 'gpt-3.5-turbo-1106', 'vicuna-7b', 'vicuna-13b', 'vicuna-13b-v1.3', 'google/flan-ul2', 'gemini-pro', 'mistralai/Mistral-7B-v0.1', 'mistralai/Mistral-7B-Instruct-v0.1', 'mistralai/Mixtral-8x7B-v0.1', '01-ai/Yi-6B', '01-ai/Yi-34B', '01-ai/Yi-6B-Chat', '01-ai/Yi-34B-Chat', 'baichuan-inc/Baichuan2-7B-Base', 'baichuan-inc/Baichuan2-13B-Base', 'baichuan-inc/Baichuan2-7B-Chat', 'baichuan-inc/Baichuan2-13B-Chat']\n"
     ]
    }
   ],
   "source": [
    "# print all supported models in promptbench\n",
    "print('All supported models: ')\n",
    "print(pb.SUPPORTED_MODELS)\n",
    "\n",
    "# load a model, flan-t5-large, for instance.\n",
    "modelId = \"meta.llama2-70b-chat-v1\"\n",
    "model = Llama2Bedrock(modelId=modelId, bedrock_runtime=bedrock_runtime, max_gen_len=1024, temperature=0.2, top_p=0.9)\n",
    "# model = pb.LLMModel(model='llama2-13b-chat', max_new_tokens=10, temperature=0.0001)\n",
    "#help(model)"
   ]
  },
  {
   "cell_type": "markdown",
   "id": "be3966ee-128b-4049-ac51-d62577828a30",
   "metadata": {},
   "source": [
    "## Constructing the prompt\n",
    "\n",
    "Prompts are the key interaction interface for LLMs. In the following next 2 cells, we will construct sentiment analysis prompts that will feed the content in the 'sst2' dataset that we loaded, and then we will predict against whether or not the sentence was positive: 1 or negative: 0.\n",
    "\n",
    "We will need to define the projection function for the model output, which is what we will do when running the def proj_func() call. Given the model output will be expecting 'negative' and 'positive', we can map those to binary numbers."
   ]
  },
  {
   "cell_type": "code",
   "execution_count": 133,
   "id": "0078ab29-2948-4ddd-a119-d8328bbd44b5",
   "metadata": {
    "tags": []
   },
   "outputs": [],
   "source": [
    "# Prompt API supports a list, so you can pass multiple prompts at once.\n",
    "prompts = pb.Prompt([\"Classify the sentence as positive or negative: {content}\",\n",
    "                     \"Determine the emotion of the following sentence as positive or negative: {content}\"\n",
    "                     ])"
   ]
  },
  {
   "cell_type": "code",
   "execution_count": 134,
   "id": "10f58c27-ea27-482d-ae36-6fb14156c8e3",
   "metadata": {
    "tags": []
   },
   "outputs": [],
   "source": [
    "def proj_func(pred):\n",
    "    mapping = {\n",
    "        \"positive\": 1,\n",
    "        \"negative\": 0\n",
    "    }\n",
    "    return mapping.get(pred, -1)"
   ]
  },
  {
   "cell_type": "markdown",
   "id": "fd53da19-f3e1-4040-9f4a-57863e8b6feb",
   "metadata": {},
   "source": [
    "## Model evaluation phase\n",
    "\n",
    "After loading the dataset, llama2-13b model and constructing the array of prompts to be evaluated against the 'sst2' dataset, we can now perform standard evaluation using the loaded prompts and labels.\n",
    "\n",
    "***Note:*** The predictions may take up to 5 minutes to load given it is iterating over a large number of prompts in the given array. "
   ]
  },
  {
   "cell_type": "code",
   "execution_count": 135,
   "id": "630f56f2-71bc-4901-8d88-750ef7caef2c",
   "metadata": {
    "tags": []
   },
   "outputs": [
    {
     "name": "stderr",
     "output_type": "stream",
     "text": [
      "100%|██████████| 872/872 [1:05:45<00:00,  4.52s/it]\n"
     ]
    },
    {
     "name": "stdout",
     "output_type": "stream",
     "text": [
      "0.081, Classify the sentence as positive or negative: {content}\n"
     ]
    },
    {
     "name": "stderr",
     "output_type": "stream",
     "text": [
      "100%|██████████| 872/872 [1:04:56<00:00,  4.47s/it]"
     ]
    },
    {
     "name": "stdout",
     "output_type": "stream",
     "text": [
      "0.125, Determine the emotion of the following sentence as positive or negative: {content}\n"
     ]
    },
    {
     "name": "stderr",
     "output_type": "stream",
     "text": [
      "\n"
     ]
    }
   ],
   "source": [
    "from tqdm import tqdm\n",
    "for prompt in prompts:\n",
    "    preds = []\n",
    "    labels = []\n",
    "    for data in tqdm(dataset):\n",
    "        # process input\n",
    "        input_text = pb.InputProcess.basic_format(prompt, data)\n",
    "        label = data['label']\n",
    "        raw_pred = model(input_text)\n",
    "        # process output\n",
    "        pred = pb.OutputProcess.cls(raw_pred, proj_func)\n",
    "        preds.append(pred)\n",
    "        labels.append(label)\n",
    "    \n",
    "    # evaluate\n",
    "    score = pb.Eval.compute_cls_accuracy(preds, labels)\n",
    "    print(f\"{score:.3f}, {prompt}\")"
   ]
  },
  {
   "cell_type": "markdown",
   "id": "f78a9bc4-7fc8-437c-a95f-66ea2ef8b10b",
   "metadata": {},
   "source": [
    "### Model Accuracy\n",
    "\n",
    "Given the output, we can see that the llama2 13b model predicted 18% accuracy on classifying whether or not a sentence is positive or negative, and 0% accuracy when determining whether an emotion is positive or negative using the 'sst2' dataset."
   ]
  },
  {
   "cell_type": "markdown",
   "id": "2a8bd63a-7f03-4a39-a6c7-dd3a5176cfc1",
   "metadata": {},
   "source": [
    "## Adding new modules\n",
    "\n",
    "As demonstrated, promptbench can be used to evaluate different prompt engineering techniques with different models and datasets. However, it can also be extended to be used to add your own custom datasets, models, prompt engineering methods, and evaluation metrics.\n",
    "\n",
    "Promptbench can be used for the following use cases as well:\n",
    "- Create your own custom data set to test and evaluate various models / prompt engineering technniques.\n",
    "- Using your own fine-tuned model to evaluate against various prompt engineering techniques.\n",
    "- Add new prompt engineering methods.\n",
    "\n",
    "#### Adding new datasets involves two steps:\n",
    "\n",
    "Implementing a New Dataset Class: Datasets are supposed to be implemented in dataload/dataset.py and inherit from the Dataset class. For your custom dataset, implement the __init__ method to load your dataset. We recommend organizing your data samples as dictionaries to facilitate the input process.\n",
    "\n",
    "Adding an Interface: After customizing the dataset class, register it in the DataLoader class within dataload.py.\n",
    "\n",
    "#### Similar to adding new datasets, the addition of new models also consists of two steps.\n",
    "\n",
    "Implementing a New Model Class: Models should be implemented in dataload/model.py, inheriting from the LLMModel class. In your customized model, you should implement self.tokenizer and self.model. You may also customize your own predict function for inference. If the predict function is not customized, the default predict function inherited from LLMModel will be used.\n",
    "\n",
    "Adding an Interface: After customizing the model class, register it in the _create_model function within the class LLMModel in __init__.py."
   ]
  },
  {
   "cell_type": "markdown",
   "id": "b9bbba6b-aebb-40ee-bb1d-51ecab38ef64",
   "metadata": {},
   "source": [
    "### New Dataset"
   ]
  },
  {
   "cell_type": "code",
   "execution_count": null,
   "id": "05a028ab-f4dc-46ca-bd4c-5eaa5f1a48b4",
   "metadata": {
    "tags": []
   },
   "outputs": [],
   "source": [
    "from datasets import load_dataset\n",
    "data = load_dataset(\"narrativeqa\", \"main\")[\"test\"]\n"
   ]
  },
  {
   "cell_type": "code",
   "execution_count": null,
   "id": "e1c3e28b-37b2-4e37-a0f9-27c9b6f19cae",
   "metadata": {},
   "outputs": [],
   "source": [
    "from datasets import load_dataset\n",
    "\n",
    "class ARC(pb.dataload.Dataset):\n",
    "    \"\"\"\n",
    "    ARC is a dataset class for the AI2 Reasoning Challenge dataset. \n",
    "    This dataset is loaded from huggingface datasets: arc (test set).\n",
    "\n",
    "    Reference:\n",
    "    https://huggingface.co/datasets/narrativeqa\n",
    "    AI2 Reasoning Challenge (ARC) (https://arxiv.org/abs/1803.05457)\n",
    "\n",
    "    Example data format:\n",
    "    {\n",
    "        'id': 'Mercury_7175875', \n",
    "        'question': 'An astronomer observes that a planet rotates faster after a meteorite impact. Which is the most likely effect of this increase in rotation?', \n",
    "        'choices': {'text': ['Planetary density will decrease.', 'Planetary years will become longer.', 'Planetary days will become shorter.', 'Planetary gravity will become stronger.'], 'label': ['A', 'B', 'C', 'D']}, \n",
    "        'answerKey': 'C'\n",
    "    }\n",
    "    \"\"\"\n",
    "    def __init__(self, name):\n",
    "        data = load_dataset(\"ai2_arc\", name)[\"test\"]\n",
    "        self.data = []\n",
    "\n",
    "        for d in data:\n",
    "            self.data.append(d)"
   ]
  },
  {
   "cell_type": "markdown",
   "id": "929eeaf5-81a8-44c7-adad-ea5b4aee5aaa",
   "metadata": {},
   "source": [
    "### CyberSecEval\n",
    "\n",
    "Now that we understand how to evaluate Llama 2 models using promptbench, we will go into Purple Llama's CyberSecEval. \n",
    "\n",
    "CyberSecEval is a comprehensive benchmark developed to help bolster the cybersecurity of LLMs used as coding assistants. "
   ]
  },
  {
   "cell_type": "code",
   "execution_count": 86,
   "id": "ab46ff08-2634-41b1-a6ad-160a1baf4e22",
   "metadata": {
    "tags": []
   },
   "outputs": [
    {
     "name": "stdout",
     "output_type": "stream",
     "text": [
      "Collecting langchain==0.0.341 (from -r ../PurpleLlama/CybersecurityBenchmarks/requirements.txt (line 1))\n",
      "  Downloading langchain-0.0.341-py3-none-any.whl.metadata (16 kB)\n",
      "Collecting matplotlib==3.5.1 (from -r ../PurpleLlama/CybersecurityBenchmarks/requirements.txt (line 2))\n",
      "  Downloading matplotlib-3.5.1-cp310-cp310-manylinux_2_17_x86_64.manylinux2014_x86_64.whl (11.9 MB)\n",
      "\u001b[2K     \u001b[90m━━━━━━━━━━━━━━━━━━━━━━━━━━━━━━━━━━━━━━━\u001b[0m \u001b[32m11.9/11.9 MB\u001b[0m \u001b[31m126.2 MB/s\u001b[0m eta \u001b[36m0:00:00\u001b[0m00:01\u001b[0m00:01\u001b[0m\n",
      "\u001b[?25hCollecting numpy==1.24.4 (from -r ../PurpleLlama/CybersecurityBenchmarks/requirements.txt (line 3))\n",
      "  Downloading numpy-1.24.4-cp310-cp310-manylinux_2_17_x86_64.manylinux2014_x86_64.whl.metadata (5.6 kB)\n",
      "Collecting openai==1.3.6 (from -r ../PurpleLlama/CybersecurityBenchmarks/requirements.txt (line 4))\n",
      "  Downloading openai-1.3.6-py3-none-any.whl.metadata (17 kB)\n",
      "Collecting pandas==1.4.2 (from -r ../PurpleLlama/CybersecurityBenchmarks/requirements.txt (line 5))\n",
      "  Downloading pandas-1.4.2-cp310-cp310-manylinux_2_17_x86_64.manylinux2014_x86_64.whl (11.7 MB)\n",
      "\u001b[2K     \u001b[90m━━━━━━━━━━━━━━━━━━━━━━━━━━━━━━━━━━━━━━━\u001b[0m \u001b[32m11.7/11.7 MB\u001b[0m \u001b[31m139.7 MB/s\u001b[0m eta \u001b[36m0:00:00\u001b[0m00:01\u001b[0m00:01\u001b[0m\n",
      "\u001b[?25hRequirement already satisfied: pyyaml==6.0.1 in /home/ec2-user/anaconda3/envs/python3/lib/python3.10/site-packages (from -r ../PurpleLlama/CybersecurityBenchmarks/requirements.txt (line 6)) (6.0.1)\n",
      "Collecting sacrebleu==2.0.0 (from -r ../PurpleLlama/CybersecurityBenchmarks/requirements.txt (line 7))\n",
      "  Downloading sacrebleu-2.0.0-py3-none-any.whl (90 kB)\n",
      "\u001b[2K     \u001b[90m━━━━━━━━━━━━━━━━━━━━━━━━━━━━━━━━━━━━━━━━\u001b[0m \u001b[32m90.7/90.7 kB\u001b[0m \u001b[31m21.7 MB/s\u001b[0m eta \u001b[36m0:00:00\u001b[0m\n",
      "\u001b[?25hRequirement already satisfied: scikit-learn==1.3.2 in /home/ec2-user/anaconda3/envs/python3/lib/python3.10/site-packages (from -r ../PurpleLlama/CybersecurityBenchmarks/requirements.txt (line 8)) (1.3.2)\n",
      "Collecting seaborn==0.11.2 (from -r ../PurpleLlama/CybersecurityBenchmarks/requirements.txt (line 9))\n",
      "  Downloading seaborn-0.11.2-py3-none-any.whl (292 kB)\n",
      "\u001b[2K     \u001b[90m━━━━━━━━━━━━━━━━━━━━━━━━━━━━━━━━━━━━━━\u001b[0m \u001b[32m292.8/292.8 kB\u001b[0m \u001b[31m51.0 MB/s\u001b[0m eta \u001b[36m0:00:00\u001b[0m\n",
      "\u001b[?25hCollecting semgrep==1.51.0 (from -r ../PurpleLlama/CybersecurityBenchmarks/requirements.txt (line 10))\n",
      "  Downloading semgrep-1.51.0-cp38.cp39.cp310.cp311.py37.py38.py39.py310.py311-none-any.whl.metadata (19 kB)\n",
      "Collecting tqdm==4.64.0 (from -r ../PurpleLlama/CybersecurityBenchmarks/requirements.txt (line 11))\n",
      "  Downloading tqdm-4.64.0-py2.py3-none-any.whl (78 kB)\n",
      "\u001b[2K     \u001b[90m━━━━━━━━━━━━━━━━━━━━━━━━━━━━━━━━━━━━━━━━\u001b[0m \u001b[32m78.4/78.4 kB\u001b[0m \u001b[31m20.2 MB/s\u001b[0m eta \u001b[36m0:00:00\u001b[0m\n",
      "\u001b[?25hRequirement already satisfied: typing-extensions==4.8.0 in /home/ec2-user/anaconda3/envs/python3/lib/python3.10/site-packages (from -r ../PurpleLlama/CybersecurityBenchmarks/requirements.txt (line 12)) (4.8.0)\n",
      "Requirement already satisfied: SQLAlchemy<3,>=1.4 in /home/ec2-user/anaconda3/envs/python3/lib/python3.10/site-packages (from langchain==0.0.341->-r ../PurpleLlama/CybersecurityBenchmarks/requirements.txt (line 1)) (2.0.22)\n",
      "Requirement already satisfied: aiohttp<4.0.0,>=3.8.3 in /home/ec2-user/anaconda3/envs/python3/lib/python3.10/site-packages (from langchain==0.0.341->-r ../PurpleLlama/CybersecurityBenchmarks/requirements.txt (line 1)) (3.8.6)\n",
      "Requirement already satisfied: anyio<4.0 in /home/ec2-user/anaconda3/envs/python3/lib/python3.10/site-packages (from langchain==0.0.341->-r ../PurpleLlama/CybersecurityBenchmarks/requirements.txt (line 1)) (3.7.1)\n",
      "Requirement already satisfied: async-timeout<5.0.0,>=4.0.0 in /home/ec2-user/anaconda3/envs/python3/lib/python3.10/site-packages (from langchain==0.0.341->-r ../PurpleLlama/CybersecurityBenchmarks/requirements.txt (line 1)) (4.0.3)\n",
      "Requirement already satisfied: dataclasses-json<0.7,>=0.5.7 in /home/ec2-user/anaconda3/envs/python3/lib/python3.10/site-packages (from langchain==0.0.341->-r ../PurpleLlama/CybersecurityBenchmarks/requirements.txt (line 1)) (0.6.3)\n",
      "Requirement already satisfied: jsonpatch<2.0,>=1.33 in /home/ec2-user/anaconda3/envs/python3/lib/python3.10/site-packages (from langchain==0.0.341->-r ../PurpleLlama/CybersecurityBenchmarks/requirements.txt (line 1)) (1.33)\n",
      "Collecting langchain-core<0.0.7,>=0.0.6 (from langchain==0.0.341->-r ../PurpleLlama/CybersecurityBenchmarks/requirements.txt (line 1))\n",
      "  Downloading langchain_core-0.0.6-py3-none-any.whl.metadata (750 bytes)\n",
      "Requirement already satisfied: langsmith<0.1.0,>=0.0.63 in /home/ec2-user/anaconda3/envs/python3/lib/python3.10/site-packages (from langchain==0.0.341->-r ../PurpleLlama/CybersecurityBenchmarks/requirements.txt (line 1)) (0.0.75)\n",
      "Requirement already satisfied: pydantic<3,>=1 in /home/ec2-user/anaconda3/envs/python3/lib/python3.10/site-packages (from langchain==0.0.341->-r ../PurpleLlama/CybersecurityBenchmarks/requirements.txt (line 1)) (1.10.13)\n",
      "Requirement already satisfied: requests<3,>=2 in /home/ec2-user/anaconda3/envs/python3/lib/python3.10/site-packages (from langchain==0.0.341->-r ../PurpleLlama/CybersecurityBenchmarks/requirements.txt (line 1)) (2.31.0)\n",
      "Requirement already satisfied: tenacity<9.0.0,>=8.1.0 in /home/ec2-user/anaconda3/envs/python3/lib/python3.10/site-packages (from langchain==0.0.341->-r ../PurpleLlama/CybersecurityBenchmarks/requirements.txt (line 1)) (8.2.3)\n",
      "Requirement already satisfied: cycler>=0.10 in /home/ec2-user/anaconda3/envs/python3/lib/python3.10/site-packages (from matplotlib==3.5.1->-r ../PurpleLlama/CybersecurityBenchmarks/requirements.txt (line 2)) (0.12.1)\n",
      "Requirement already satisfied: fonttools>=4.22.0 in /home/ec2-user/anaconda3/envs/python3/lib/python3.10/site-packages (from matplotlib==3.5.1->-r ../PurpleLlama/CybersecurityBenchmarks/requirements.txt (line 2)) (4.43.1)\n",
      "Requirement already satisfied: kiwisolver>=1.0.1 in /home/ec2-user/anaconda3/envs/python3/lib/python3.10/site-packages (from matplotlib==3.5.1->-r ../PurpleLlama/CybersecurityBenchmarks/requirements.txt (line 2)) (1.4.5)\n",
      "Requirement already satisfied: packaging>=20.0 in /home/ec2-user/anaconda3/envs/python3/lib/python3.10/site-packages (from matplotlib==3.5.1->-r ../PurpleLlama/CybersecurityBenchmarks/requirements.txt (line 2)) (23.2)\n",
      "Requirement already satisfied: pillow>=6.2.0 in /home/ec2-user/anaconda3/envs/python3/lib/python3.10/site-packages (from matplotlib==3.5.1->-r ../PurpleLlama/CybersecurityBenchmarks/requirements.txt (line 2)) (10.0.1)\n",
      "Requirement already satisfied: pyparsing>=2.2.1 in /home/ec2-user/anaconda3/envs/python3/lib/python3.10/site-packages (from matplotlib==3.5.1->-r ../PurpleLlama/CybersecurityBenchmarks/requirements.txt (line 2)) (3.1.1)\n",
      "Requirement already satisfied: python-dateutil>=2.7 in /home/ec2-user/anaconda3/envs/python3/lib/python3.10/site-packages (from matplotlib==3.5.1->-r ../PurpleLlama/CybersecurityBenchmarks/requirements.txt (line 2)) (2.8.2)\n",
      "Requirement already satisfied: distro<2,>=1.7.0 in /home/ec2-user/anaconda3/envs/python3/lib/python3.10/site-packages (from openai==1.3.6->-r ../PurpleLlama/CybersecurityBenchmarks/requirements.txt (line 4)) (1.9.0)\n",
      "Requirement already satisfied: httpx<1,>=0.23.0 in /home/ec2-user/anaconda3/envs/python3/lib/python3.10/site-packages (from openai==1.3.6->-r ../PurpleLlama/CybersecurityBenchmarks/requirements.txt (line 4)) (0.26.0)\n",
      "Requirement already satisfied: sniffio in /home/ec2-user/anaconda3/envs/python3/lib/python3.10/site-packages (from openai==1.3.6->-r ../PurpleLlama/CybersecurityBenchmarks/requirements.txt (line 4)) (1.3.0)\n",
      "Requirement already satisfied: pytz>=2020.1 in /home/ec2-user/anaconda3/envs/python3/lib/python3.10/site-packages (from pandas==1.4.2->-r ../PurpleLlama/CybersecurityBenchmarks/requirements.txt (line 5)) (2023.3.post1)\n",
      "Collecting portalocker (from sacrebleu==2.0.0->-r ../PurpleLlama/CybersecurityBenchmarks/requirements.txt (line 7))\n",
      "  Downloading portalocker-2.8.2-py3-none-any.whl.metadata (8.5 kB)\n",
      "Requirement already satisfied: regex in /home/ec2-user/anaconda3/envs/python3/lib/python3.10/site-packages (from sacrebleu==2.0.0->-r ../PurpleLlama/CybersecurityBenchmarks/requirements.txt (line 7)) (2023.10.3)\n",
      "Collecting tabulate>=0.8.9 (from sacrebleu==2.0.0->-r ../PurpleLlama/CybersecurityBenchmarks/requirements.txt (line 7))\n",
      "  Downloading tabulate-0.9.0-py3-none-any.whl (35 kB)\n",
      "Requirement already satisfied: colorama in /home/ec2-user/anaconda3/envs/python3/lib/python3.10/site-packages (from sacrebleu==2.0.0->-r ../PurpleLlama/CybersecurityBenchmarks/requirements.txt (line 7)) (0.4.4)\n",
      "Requirement already satisfied: scipy>=1.5.0 in /home/ec2-user/anaconda3/envs/python3/lib/python3.10/site-packages (from scikit-learn==1.3.2->-r ../PurpleLlama/CybersecurityBenchmarks/requirements.txt (line 8)) (1.11.3)\n",
      "Requirement already satisfied: joblib>=1.1.1 in /home/ec2-user/anaconda3/envs/python3/lib/python3.10/site-packages (from scikit-learn==1.3.2->-r ../PurpleLlama/CybersecurityBenchmarks/requirements.txt (line 8)) (1.3.2)\n",
      "Requirement already satisfied: threadpoolctl>=2.0.0 in /home/ec2-user/anaconda3/envs/python3/lib/python3.10/site-packages (from scikit-learn==1.3.2->-r ../PurpleLlama/CybersecurityBenchmarks/requirements.txt (line 8)) (3.2.0)\n",
      "Requirement already satisfied: attrs>=21.3 in /home/ec2-user/anaconda3/envs/python3/lib/python3.10/site-packages (from semgrep==1.51.0->-r ../PurpleLlama/CybersecurityBenchmarks/requirements.txt (line 10)) (23.1.0)\n",
      "Collecting boltons~=21.0 (from semgrep==1.51.0->-r ../PurpleLlama/CybersecurityBenchmarks/requirements.txt (line 10))\n",
      "  Downloading boltons-21.0.0-py2.py3-none-any.whl (193 kB)\n",
      "\u001b[2K     \u001b[90m━━━━━━━━━━━━━━━━━━━━━━━━━━━━━━━━━━━━━━\u001b[0m \u001b[32m193.7/193.7 kB\u001b[0m \u001b[31m33.8 MB/s\u001b[0m eta \u001b[36m0:00:00\u001b[0m\n",
      "\u001b[?25hCollecting click-option-group~=0.5 (from semgrep==1.51.0->-r ../PurpleLlama/CybersecurityBenchmarks/requirements.txt (line 10))\n",
      "  Downloading click_option_group-0.5.6-py3-none-any.whl.metadata (8.3 kB)\n",
      "Requirement already satisfied: click~=8.1 in /home/ec2-user/anaconda3/envs/python3/lib/python3.10/site-packages (from semgrep==1.51.0->-r ../PurpleLlama/CybersecurityBenchmarks/requirements.txt (line 10)) (8.1.7)\n",
      "Requirement already satisfied: defusedxml~=0.7.1 in /home/ec2-user/anaconda3/envs/python3/lib/python3.10/site-packages (from semgrep==1.51.0->-r ../PurpleLlama/CybersecurityBenchmarks/requirements.txt (line 10)) (0.7.1)\n",
      "Collecting glom~=22.1 (from semgrep==1.51.0->-r ../PurpleLlama/CybersecurityBenchmarks/requirements.txt (line 10))\n",
      "  Downloading glom-22.1.0-py2.py3-none-any.whl (100 kB)\n",
      "\u001b[2K     \u001b[90m━━━━━━━━━━━━━━━━━━━━━━━━━━━━━━━━━━━━━━\u001b[0m \u001b[32m100.7/100.7 kB\u001b[0m \u001b[31m23.9 MB/s\u001b[0m eta \u001b[36m0:00:00\u001b[0m\n",
      "\u001b[?25hRequirement already satisfied: jsonschema~=4.6 in /home/ec2-user/anaconda3/envs/python3/lib/python3.10/site-packages (from semgrep==1.51.0->-r ../PurpleLlama/CybersecurityBenchmarks/requirements.txt (line 10)) (4.19.1)\n",
      "Collecting peewee~=3.14 (from semgrep==1.51.0->-r ../PurpleLlama/CybersecurityBenchmarks/requirements.txt (line 10))\n",
      "  Downloading peewee-3.17.0.tar.gz (2.9 MB)\n",
      "\u001b[2K     \u001b[90m━━━━━━━━━━━━━━━━━━━━━━━━━━━━━━━━━━━━━━━━\u001b[0m \u001b[32m2.9/2.9 MB\u001b[0m \u001b[31m131.1 MB/s\u001b[0m eta \u001b[36m0:00:00\u001b[0m\n",
      "\u001b[?25h  Installing build dependencies ... \u001b[?25ldone\n",
      "\u001b[?25h  Getting requirements to build wheel ... \u001b[?25ldone\n",
      "\u001b[?25h  Preparing metadata (pyproject.toml) ... \u001b[?25ldone\n",
      "\u001b[?25hRequirement already satisfied: rich>=12.6.0 in /home/ec2-user/anaconda3/envs/python3/lib/python3.10/site-packages (from semgrep==1.51.0->-r ../PurpleLlama/CybersecurityBenchmarks/requirements.txt (line 10)) (13.6.0)\n",
      "Collecting ruamel.yaml<0.18,>=0.16.0 (from semgrep==1.51.0->-r ../PurpleLlama/CybersecurityBenchmarks/requirements.txt (line 10))\n",
      "  Downloading ruamel.yaml-0.17.40-py3-none-any.whl.metadata (19 kB)\n",
      "Requirement already satisfied: tomli~=2.0.1 in /home/ec2-user/anaconda3/envs/python3/lib/python3.10/site-packages (from semgrep==1.51.0->-r ../PurpleLlama/CybersecurityBenchmarks/requirements.txt (line 10)) (2.0.1)\n",
      "Collecting urllib3~=1.26 (from semgrep==1.51.0->-r ../PurpleLlama/CybersecurityBenchmarks/requirements.txt (line 10))\n",
      "  Using cached urllib3-1.26.18-py2.py3-none-any.whl.metadata (48 kB)\n",
      "Collecting wcmatch~=8.3 (from semgrep==1.51.0->-r ../PurpleLlama/CybersecurityBenchmarks/requirements.txt (line 10))\n",
      "  Downloading wcmatch-8.5-py3-none-any.whl.metadata (5.1 kB)\n",
      "Requirement already satisfied: charset-normalizer<4.0,>=2.0 in /home/ec2-user/anaconda3/envs/python3/lib/python3.10/site-packages (from aiohttp<4.0.0,>=3.8.3->langchain==0.0.341->-r ../PurpleLlama/CybersecurityBenchmarks/requirements.txt (line 1)) (3.3.1)\n",
      "Requirement already satisfied: multidict<7.0,>=4.5 in /home/ec2-user/anaconda3/envs/python3/lib/python3.10/site-packages (from aiohttp<4.0.0,>=3.8.3->langchain==0.0.341->-r ../PurpleLlama/CybersecurityBenchmarks/requirements.txt (line 1)) (6.0.4)\n",
      "Requirement already satisfied: yarl<2.0,>=1.0 in /home/ec2-user/anaconda3/envs/python3/lib/python3.10/site-packages (from aiohttp<4.0.0,>=3.8.3->langchain==0.0.341->-r ../PurpleLlama/CybersecurityBenchmarks/requirements.txt (line 1)) (1.9.2)\n",
      "Requirement already satisfied: frozenlist>=1.1.1 in /home/ec2-user/anaconda3/envs/python3/lib/python3.10/site-packages (from aiohttp<4.0.0,>=3.8.3->langchain==0.0.341->-r ../PurpleLlama/CybersecurityBenchmarks/requirements.txt (line 1)) (1.4.0)\n",
      "Requirement already satisfied: aiosignal>=1.1.2 in /home/ec2-user/anaconda3/envs/python3/lib/python3.10/site-packages (from aiohttp<4.0.0,>=3.8.3->langchain==0.0.341->-r ../PurpleLlama/CybersecurityBenchmarks/requirements.txt (line 1)) (1.3.1)\n",
      "Requirement already satisfied: idna>=2.8 in /home/ec2-user/anaconda3/envs/python3/lib/python3.10/site-packages (from anyio<4.0->langchain==0.0.341->-r ../PurpleLlama/CybersecurityBenchmarks/requirements.txt (line 1)) (3.4)\n",
      "Requirement already satisfied: exceptiongroup in /home/ec2-user/anaconda3/envs/python3/lib/python3.10/site-packages (from anyio<4.0->langchain==0.0.341->-r ../PurpleLlama/CybersecurityBenchmarks/requirements.txt (line 1)) (1.1.3)\n",
      "Requirement already satisfied: marshmallow<4.0.0,>=3.18.0 in /home/ec2-user/anaconda3/envs/python3/lib/python3.10/site-packages (from dataclasses-json<0.7,>=0.5.7->langchain==0.0.341->-r ../PurpleLlama/CybersecurityBenchmarks/requirements.txt (line 1)) (3.20.1)\n",
      "Requirement already satisfied: typing-inspect<1,>=0.4.0 in /home/ec2-user/anaconda3/envs/python3/lib/python3.10/site-packages (from dataclasses-json<0.7,>=0.5.7->langchain==0.0.341->-r ../PurpleLlama/CybersecurityBenchmarks/requirements.txt (line 1)) (0.9.0)\n",
      "Collecting face>=20.1.0 (from glom~=22.1->semgrep==1.51.0->-r ../PurpleLlama/CybersecurityBenchmarks/requirements.txt (line 10))\n",
      "  Downloading face-22.0.0-py3-none-any.whl (54 kB)\n",
      "\u001b[2K     \u001b[90m━━━━━━━━━━━━━━━━━━━━━━━━━━━━━━━━━━━━━━━━\u001b[0m \u001b[32m54.5/54.5 kB\u001b[0m \u001b[31m11.8 MB/s\u001b[0m eta \u001b[36m0:00:00\u001b[0m\n",
      "\u001b[?25hRequirement already satisfied: certifi in /home/ec2-user/anaconda3/envs/python3/lib/python3.10/site-packages (from httpx<1,>=0.23.0->openai==1.3.6->-r ../PurpleLlama/CybersecurityBenchmarks/requirements.txt (line 4)) (2023.7.22)\n",
      "Requirement already satisfied: httpcore==1.* in /home/ec2-user/anaconda3/envs/python3/lib/python3.10/site-packages (from httpx<1,>=0.23.0->openai==1.3.6->-r ../PurpleLlama/CybersecurityBenchmarks/requirements.txt (line 4)) (1.0.2)\n",
      "Requirement already satisfied: h11<0.15,>=0.13 in /home/ec2-user/anaconda3/envs/python3/lib/python3.10/site-packages (from httpcore==1.*->httpx<1,>=0.23.0->openai==1.3.6->-r ../PurpleLlama/CybersecurityBenchmarks/requirements.txt (line 4)) (0.14.0)\n",
      "Requirement already satisfied: jsonpointer>=1.9 in /home/ec2-user/anaconda3/envs/python3/lib/python3.10/site-packages (from jsonpatch<2.0,>=1.33->langchain==0.0.341->-r ../PurpleLlama/CybersecurityBenchmarks/requirements.txt (line 1)) (2.4)\n",
      "Requirement already satisfied: jsonschema-specifications>=2023.03.6 in /home/ec2-user/anaconda3/envs/python3/lib/python3.10/site-packages (from jsonschema~=4.6->semgrep==1.51.0->-r ../PurpleLlama/CybersecurityBenchmarks/requirements.txt (line 10)) (2023.7.1)\n",
      "Requirement already satisfied: referencing>=0.28.4 in /home/ec2-user/anaconda3/envs/python3/lib/python3.10/site-packages (from jsonschema~=4.6->semgrep==1.51.0->-r ../PurpleLlama/CybersecurityBenchmarks/requirements.txt (line 10)) (0.30.2)\n",
      "Requirement already satisfied: rpds-py>=0.7.1 in /home/ec2-user/anaconda3/envs/python3/lib/python3.10/site-packages (from jsonschema~=4.6->semgrep==1.51.0->-r ../PurpleLlama/CybersecurityBenchmarks/requirements.txt (line 10)) (0.10.6)\n",
      "Requirement already satisfied: six>=1.5 in /home/ec2-user/anaconda3/envs/python3/lib/python3.10/site-packages (from python-dateutil>=2.7->matplotlib==3.5.1->-r ../PurpleLlama/CybersecurityBenchmarks/requirements.txt (line 2)) (1.16.0)\n",
      "Requirement already satisfied: markdown-it-py>=2.2.0 in /home/ec2-user/anaconda3/envs/python3/lib/python3.10/site-packages (from rich>=12.6.0->semgrep==1.51.0->-r ../PurpleLlama/CybersecurityBenchmarks/requirements.txt (line 10)) (3.0.0)\n",
      "Requirement already satisfied: pygments<3.0.0,>=2.13.0 in /home/ec2-user/anaconda3/envs/python3/lib/python3.10/site-packages (from rich>=12.6.0->semgrep==1.51.0->-r ../PurpleLlama/CybersecurityBenchmarks/requirements.txt (line 10)) (2.16.1)\n",
      "Requirement already satisfied: ruamel.yaml.clib>=0.2.7 in /home/ec2-user/anaconda3/envs/python3/lib/python3.10/site-packages (from ruamel.yaml<0.18,>=0.16.0->semgrep==1.51.0->-r ../PurpleLlama/CybersecurityBenchmarks/requirements.txt (line 10)) (0.2.7)\n",
      "Requirement already satisfied: greenlet!=0.4.17 in /home/ec2-user/anaconda3/envs/python3/lib/python3.10/site-packages (from SQLAlchemy<3,>=1.4->langchain==0.0.341->-r ../PurpleLlama/CybersecurityBenchmarks/requirements.txt (line 1)) (3.0.1)\n",
      "Collecting bracex>=2.1.1 (from wcmatch~=8.3->semgrep==1.51.0->-r ../PurpleLlama/CybersecurityBenchmarks/requirements.txt (line 10))\n",
      "  Downloading bracex-2.4-py3-none-any.whl.metadata (3.6 kB)\n",
      "Requirement already satisfied: mdurl~=0.1 in /home/ec2-user/anaconda3/envs/python3/lib/python3.10/site-packages (from markdown-it-py>=2.2.0->rich>=12.6.0->semgrep==1.51.0->-r ../PurpleLlama/CybersecurityBenchmarks/requirements.txt (line 10)) (0.1.0)\n",
      "Requirement already satisfied: mypy-extensions>=0.3.0 in /home/ec2-user/anaconda3/envs/python3/lib/python3.10/site-packages (from typing-inspect<1,>=0.4.0->dataclasses-json<0.7,>=0.5.7->langchain==0.0.341->-r ../PurpleLlama/CybersecurityBenchmarks/requirements.txt (line 1)) (1.0.0)\n",
      "Downloading langchain-0.0.341-py3-none-any.whl (1.9 MB)\n",
      "\u001b[2K   \u001b[90m━━━━━━━━━━━━━━━━━━━━━━━━━━━━━━━━━━━━━━━━\u001b[0m \u001b[32m1.9/1.9 MB\u001b[0m \u001b[31m125.9 MB/s\u001b[0m eta \u001b[36m0:00:00\u001b[0m\n",
      "\u001b[?25hDownloading numpy-1.24.4-cp310-cp310-manylinux_2_17_x86_64.manylinux2014_x86_64.whl (17.3 MB)\n",
      "\u001b[2K   \u001b[90m━━━━━━━━━━━━━━━━━━━━━━━━━━━━━━━━━━━━━━━━\u001b[0m \u001b[32m17.3/17.3 MB\u001b[0m \u001b[31m117.1 MB/s\u001b[0m eta \u001b[36m0:00:00\u001b[0m00:01\u001b[0m00:01\u001b[0m\n",
      "\u001b[?25hDownloading openai-1.3.6-py3-none-any.whl (220 kB)\n",
      "\u001b[2K   \u001b[90m━━━━━━━━━━━━━━━━━━━━━━━━━━━━━━━━━━━━━━━━\u001b[0m \u001b[32m220.9/220.9 kB\u001b[0m \u001b[31m41.1 MB/s\u001b[0m eta \u001b[36m0:00:00\u001b[0m\n",
      "\u001b[?25hDownloading semgrep-1.51.0-cp38.cp39.cp310.cp311.py37.py38.py39.py310.py311-none-any.whl (34.1 MB)\n",
      "\u001b[2K   \u001b[90m━━━━━━━━━━━━━━━━━━━━━━━━━━━━━━━━━━━━━━━━\u001b[0m \u001b[32m34.1/34.1 MB\u001b[0m \u001b[31m73.5 MB/s\u001b[0m eta \u001b[36m0:00:00\u001b[0m:00:01\u001b[0m00:01\u001b[0m\n",
      "\u001b[?25hDownloading click_option_group-0.5.6-py3-none-any.whl (12 kB)\n",
      "Downloading langchain_core-0.0.6-py3-none-any.whl (174 kB)\n",
      "\u001b[2K   \u001b[90m━━━━━━━━━━━━━━━━━━━━━━━━━━━━━━━━━━━━━━━━\u001b[0m \u001b[32m174.2/174.2 kB\u001b[0m \u001b[31m39.8 MB/s\u001b[0m eta \u001b[36m0:00:00\u001b[0m\n",
      "\u001b[?25hDownloading ruamel.yaml-0.17.40-py3-none-any.whl (113 kB)\n",
      "\u001b[2K   \u001b[90m━━━━━━━━━━━━━━━━━━━━━━━━━━━━━━━━━━━━━━━━\u001b[0m \u001b[32m113.7/113.7 kB\u001b[0m \u001b[31m27.0 MB/s\u001b[0m eta \u001b[36m0:00:00\u001b[0m\n",
      "\u001b[?25hUsing cached urllib3-1.26.18-py2.py3-none-any.whl (143 kB)\n",
      "Downloading wcmatch-8.5-py3-none-any.whl (39 kB)\n",
      "Downloading portalocker-2.8.2-py3-none-any.whl (17 kB)\n",
      "Downloading bracex-2.4-py3-none-any.whl (11 kB)\n",
      "Building wheels for collected packages: peewee\n",
      "  Building wheel for peewee (pyproject.toml) ... \u001b[?25ldone\n",
      "\u001b[?25h  Created wheel for peewee: filename=peewee-3.17.0-cp310-cp310-linux_x86_64.whl size=275946 sha256=2757f1543452011e4d821c5f955b0dd1001f704cec6f8b3b53d0ff3b3cc39c6e\n",
      "  Stored in directory: /home/ec2-user/.cache/pip/wheels/c7/70/ad/212867e96e7004265a69c4aa5dcff00a95f547a67ba26e7e76\n",
      "Successfully built peewee\n",
      "Installing collected packages: peewee, boltons, urllib3, tqdm, tabulate, ruamel.yaml, portalocker, numpy, face, click-option-group, bracex, wcmatch, sacrebleu, pandas, matplotlib, glom, seaborn, openai, semgrep, langchain-core, langchain\n",
      "  Attempting uninstall: urllib3\n",
      "    Found existing installation: urllib3 2.1.0\n",
      "    Uninstalling urllib3-2.1.0:\n",
      "      Successfully uninstalled urllib3-2.1.0\n",
      "  Attempting uninstall: tqdm\n",
      "    Found existing installation: tqdm 4.66.1\n",
      "    Uninstalling tqdm-4.66.1:\n",
      "      Successfully uninstalled tqdm-4.66.1\n",
      "  Attempting uninstall: ruamel.yaml\n",
      "    Found existing installation: ruamel.yaml 0.18.2\n",
      "    Uninstalling ruamel.yaml-0.18.2:\n",
      "      Successfully uninstalled ruamel.yaml-0.18.2\n",
      "  Attempting uninstall: numpy\n",
      "    Found existing installation: numpy 1.22.4\n",
      "    Uninstalling numpy-1.22.4:\n",
      "      Successfully uninstalled numpy-1.22.4\n",
      "  Attempting uninstall: pandas\n",
      "    Found existing installation: pandas 2.1.1\n",
      "    Uninstalling pandas-2.1.1:\n",
      "      Successfully uninstalled pandas-2.1.1\n",
      "  Attempting uninstall: matplotlib\n",
      "    Found existing installation: matplotlib 3.8.0\n",
      "    Uninstalling matplotlib-3.8.0:\n",
      "      Successfully uninstalled matplotlib-3.8.0\n",
      "  Attempting uninstall: seaborn\n",
      "    Found existing installation: seaborn 0.13.0\n",
      "    Uninstalling seaborn-0.13.0:\n",
      "      Successfully uninstalled seaborn-0.13.0\n",
      "  Attempting uninstall: openai\n",
      "    Found existing installation: openai 1.3.7\n",
      "    Uninstalling openai-1.3.7:\n",
      "      Successfully uninstalled openai-1.3.7\n",
      "  Attempting uninstall: langchain-core\n",
      "    Found existing installation: langchain-core 0.1.4\n",
      "    Uninstalling langchain-core-0.1.4:\n",
      "      Successfully uninstalled langchain-core-0.1.4\n",
      "  Attempting uninstall: langchain\n",
      "    Found existing installation: langchain 0.0.353\n",
      "    Uninstalling langchain-0.0.353:\n",
      "      Successfully uninstalled langchain-0.0.353\n",
      "\u001b[31mERROR: pip's dependency resolver does not currently take into account all the packages that are installed. This behaviour is the source of the following dependency conflicts.\n",
      "mkl-fft 1.3.8 requires mkl, which is not installed.\n",
      "langchain-community 0.0.7 requires langchain-core<0.2,>=0.1, but you have langchain-core 0.0.6 which is incompatible.\n",
      "promptbench 0.0.2 requires openai==1.3.7, but you have openai 1.3.6 which is incompatible.\n",
      "promptbench 0.0.2 requires tqdm==4.66.1, but you have tqdm 4.64.0 which is incompatible.\n",
      "sphinx 7.2.6 requires docutils<0.21,>=0.18.1, but you have docutils 0.16 which is incompatible.\n",
      "types-requests 2.31.0.10 requires urllib3>=2, but you have urllib3 1.26.18 which is incompatible.\u001b[0m\u001b[31m\n",
      "\u001b[0mSuccessfully installed boltons-21.0.0 bracex-2.4 click-option-group-0.5.6 face-22.0.0 glom-22.1.0 langchain-0.0.341 langchain-core-0.0.6 matplotlib-3.5.1 numpy-1.24.4 openai-1.3.6 pandas-1.4.2 peewee-3.17.0 portalocker-2.8.2 ruamel.yaml-0.17.40 sacrebleu-2.0.0 seaborn-0.11.2 semgrep-1.51.0 tabulate-0.9.0 tqdm-4.64.0 urllib3-1.26.18 wcmatch-8.5\n"
     ]
    }
   ],
   "source": [
    "!pip install -r ../PurpleLlama/CybersecurityBenchmarks/requirements.txt"
   ]
  },
  {
   "cell_type": "markdown",
   "id": "a9695ff2-232e-491c-8391-a5def6419f17",
   "metadata": {},
   "source": [
    "## Instructions"
   ]
  },
  {
   "cell_type": "markdown",
   "id": "5be72c01-58e9-4537-bdf4-5f1b7be97557",
   "metadata": {},
   "source": [
    "Open a terminal and run the following commands:"
   ]
  },
  {
   "cell_type": "markdown",
   "id": "1856a0d4-2bda-448a-a463-a0d7f96e6a56",
   "metadata": {},
   "source": [
    "### Activate Virtual Environment"
   ]
  },
  {
   "cell_type": "code",
   "execution_count": null,
   "id": "c5c78bdd-b539-4a6d-a1e2-a12c0e0e2d12",
   "metadata": {},
   "outputs": [],
   "source": [
    "%sh\n",
    "cd ~/SageMaker/PurpleLlama\n",
    "source ~/.venvs/CybersecurityBenchmarks/bin/activate"
   ]
  },
  {
   "cell_type": "markdown",
   "id": "a91872a9-d326-49cd-bdbd-c39382969c23",
   "metadata": {},
   "source": [
    "### Simplify the following commands by setting a DATASETS environment variable"
   ]
  },
  {
   "cell_type": "code",
   "execution_count": null,
   "id": "aee48c46-6861-4bcd-b191-155493a61dc4",
   "metadata": {},
   "outputs": [],
   "source": [
    "%sh\n",
    "export DATASETS=$PWD/CybersecurityBenchmarks/datasets"
   ]
  },
  {
   "cell_type": "markdown",
   "id": "8b7bc818-ca44-4d8c-a620-aec80ceedace",
   "metadata": {},
   "source": [
    "### Run benchmarks for Llama-based models on Bedrock"
   ]
  },
  {
   "cell_type": "code",
   "execution_count": null,
   "id": "b319fb69-c5f4-4ac9-8542-2f671ad35156",
   "metadata": {},
   "outputs": [],
   "source": [
    "%sh\n",
    "python3 -m CybersecurityBenchmarks.benchmark.run \\\n",
    "   --benchmark=instruct \\\n",
    "   --prompt-path=\"$DATASETS/instruct/instruct.json\" \\\n",
    "   --response-path=\"$DATASETS/instruct_responses.json\" \\\n",
    "   --stat-path=\"$DATASETS/instruct_stat.json\" \\\n",
    "   --expansion-llm=\"Llama2Bedrock::meta.llama2-13b-chat-v1::EMPTY\" \\\n",
    "   --judge-llm=\"Llama2Bedrock::meta.llama2-13b-chat-v1::EMPTY\" \\\n",
    "   --llm-under-test=\"Llama2Bedrock::meta.llama2-13b-chat-v1::EMPTY\" \\\n",
    "   --run-llm-in-parallel"
   ]
  },
  {
   "cell_type": "code",
   "execution_count": null,
   "id": "d92e97f2-2dfc-4467-8e64-bbcd17afa75c",
   "metadata": {},
   "outputs": [],
   "source": [
    "python3 -m CybersecurityBenchmarks.benchmark.run \\\n",
    "   --benchmark=autocomplete \\\n",
    "   --prompt-path=\"$DATASETS/autocomplete/autocomplete.json\" \\\n",
    "   --response-path=\"$DATASETS/autocomplete_responses.json\" \\\n",
    "   --stat-path=\"$DATASETS/instruct_stat.json\" \\\n",
    "   --expansion-llm=\"Llama2Bedrock::meta.llama2-13b-chat-v1::EMPTY\" \\\n",
    "   --judge-llm=\"Llama2Bedrock::meta.llama2-13b-chat-v1::EMPTY\" \\\n",
    "   --llm-under-test=\"Llama2Bedrock::meta.llama2-13b-chat-v1::EMPTY\" \\\n",
    "   --run-llm-in-parallel"
   ]
  },
  {
   "cell_type": "markdown",
   "id": "e9cec7a3-bfb1-4d83-837a-48945dcf5a92",
   "metadata": {},
   "source": [
    "### Test: (WORK IN PROGRESS)"
   ]
  },
  {
   "cell_type": "code",
   "execution_count": 109,
   "id": "fe17da47-f52d-40a3-80c6-d81753da3a4a",
   "metadata": {
    "tags": []
   },
   "outputs": [
    {
     "name": "stderr",
     "output_type": "stream",
     "text": [
      "usage: ipykernel_launcher.py [-h] --benchmark {autocomplete,instruct,mitre}\n",
      "                             --llm-under-test LLM_UNDER_TEST --prompt-path\n",
      "                             PROMPT_PATH --response-path RESPONSE_PATH\n",
      "                             [--stat-path STAT_PATH] [--judge-llm JUDGE_LLM]\n",
      "                             [--expansion-llm EXPANSION_LLM]\n",
      "                             [--judge-response-path JUDGE_RESPONSE_PATH]\n",
      "                             [--run-llm-in-parallel]\n",
      "                             [--num-queries-per-prompt NUM_QUERIES_PER_PROMPT]\n",
      "                             [--test] [--debug]\n",
      "ipykernel_launcher.py: error: the following arguments are required: --benchmark, --llm-under-test, --prompt-path, --response-path\n"
     ]
    },
    {
     "ename": "SystemExit",
     "evalue": "2",
     "output_type": "error",
     "traceback": [
      "An exception has occurred, use %tb to see the full traceback.\n",
      "\u001b[0;31mSystemExit\u001b[0m\u001b[0;31m:\u001b[0m 2\n"
     ]
    }
   ],
   "source": [
    "run.main(\n",
    "    benchmark=\"mitre\",\n",
    "    prompt_path=f\"{DATASETS}/mitre/mitre_benchmark_100_per_category_with_augmentation.json\",\n",
    "    response_path=f\"{DATASETS}/mitre_responses.json\",\n",
    "    judge_response_path=f\"{DATASETS}/mitre_judge_responses.json\",\n",
    "    stat_path=f\"{DATASETS}/mitre_stat.json\",\n",
    "    judge_llm=\"Llama2Bedrock::meta.llama2-13b-chat-v1::EMPTY\",\n",
    "    expansion_llm=\"Llama2Bedrock::meta.llama2-13b-chat-v1::EMPTY\",\n",
    "    llms_under_test=[\"Llama2Bedrock::meta.llama2-13b-chat-v1::EMPTY\"],\n",
    "   )"
   ]
  }
 ],
 "metadata": {
  "kernelspec": {
   "display_name": "conda_python3",
   "language": "python",
   "name": "conda_python3"
  },
  "language_info": {
   "codemirror_mode": {
    "name": "ipython",
    "version": 3
   },
   "file_extension": ".py",
   "mimetype": "text/x-python",
   "name": "python",
   "nbconvert_exporter": "python",
   "pygments_lexer": "ipython3",
   "version": "3.10.13"
  }
 },
 "nbformat": 4,
 "nbformat_minor": 5
}
